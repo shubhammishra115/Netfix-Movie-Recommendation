{
  "nbformat": 4,
  "nbformat_minor": 0,
  "metadata": {
    "colab": {
      "name": "Assignment.ipynb",
      "provenance": [],
      "collapsed_sections": [],
      "mount_file_id": "1QOcy1F70lSoAMWhDvi_hgylhl1IqGsn6",
      "authorship_tag": "ABX9TyPNK/3x89gfJQZrvS5UhGIp",
      "include_colab_link": true
    },
    "kernelspec": {
      "name": "python3",
      "display_name": "Python 3"
    },
    "language_info": {
      "name": "python"
    }
  },
  "cells": [
    {
      "cell_type": "markdown",
      "metadata": {
        "id": "view-in-github",
        "colab_type": "text"
      },
      "source": [
        "<a href=\"https://colab.research.google.com/github/shubhammishra115/Netfix-Movie-Recommendation/blob/main/Assignment.ipynb\" target=\"_parent\"><img src=\"https://colab.research.google.com/assets/colab-badge.svg\" alt=\"Open In Colab\"/></a>"
      ]
    },
    {
      "cell_type": "markdown",
      "source": [
        "**Task**\n",
        "Here you would need to create a model which assigns a customer to a certain customer category based on the total value of orders they’ve placed. This would let us target the most valuable customers with certain offers which promote a higher spend. \n",
        "\n",
        "The dataset is a CSV, where each row represents an sku which is a part of an order. The different columns are described below. Every conversation included has at least one request from a consumer and at least one response from a company. Which user IDs are company user IDs can be calculated using the inbound field.\n",
        "\n",
        "**Solution:** Clustering is an Unsupervised learning. In this type of learning we are given a data which is not labled. In this method we have to processes the data and come up with a solution that can solve some of the business problem, we have to create some clusters based on the similarity of the data points, and this similarity term is very much specific to the type of problem to be solve.\n",
        "\n",
        "In this problem we have to Create some clusters based on the total value of order placed by the customer inorder to identify the most value able customers of the brand, so that the brand can comeup with some business model to increase the count of valued customers.\n",
        "\n",
        "The business idea can be, providing different offers to the customers of different clusters as per their need and requirements to increase the sale."
      ],
      "metadata": {
        "id": "ynbMfJP2jLdt"
      }
    },
    {
      "cell_type": "markdown",
      "source": [
        ""
      ],
      "metadata": {
        "id": "ZQ2x3z4zxpbW"
      }
    },
    {
      "cell_type": "code",
      "execution_count": 49,
      "metadata": {
        "id": "CBH__4aoMc1C"
      },
      "outputs": [],
      "source": [
        "# Importing the important libraries\n",
        "import numpy as np\n",
        "import pandas as pd\n",
        "import matplotlib.pyplot as plt"
      ]
    },
    {
      "cell_type": "code",
      "source": [
        "# Importing the dataset\n",
        "data = pd.read_csv('/content/drive/MyDrive/data.csv', encoding= 'unicode_escape')\n",
        "x = data.iloc[: 5, :]"
      ],
      "metadata": {
        "id": "SR-AAF51PEf5"
      },
      "execution_count": 50,
      "outputs": []
    },
    {
      "cell_type": "markdown",
      "source": [
        "**Getting statistical insights from the dataset**"
      ],
      "metadata": {
        "id": "OPgnU_9Cj0LR"
      }
    },
    {
      "cell_type": "code",
      "source": [
        "# Getting some general Information regarding the data\n",
        "data.info()"
      ],
      "metadata": {
        "colab": {
          "base_uri": "https://localhost:8080/"
        },
        "id": "yJs0SJtaPFBw",
        "outputId": "a7d7f64b-9fd9-47fa-a818-59eaa13f789e"
      },
      "execution_count": 51,
      "outputs": [
        {
          "output_type": "stream",
          "name": "stdout",
          "text": [
            "<class 'pandas.core.frame.DataFrame'>\n",
            "RangeIndex: 541909 entries, 0 to 541908\n",
            "Data columns (total 8 columns):\n",
            " #   Column       Non-Null Count   Dtype  \n",
            "---  ------       --------------   -----  \n",
            " 0   InvoiceNo    541909 non-null  object \n",
            " 1   StockCode    541909 non-null  object \n",
            " 2   Description  540455 non-null  object \n",
            " 3   Quantity     541909 non-null  int64  \n",
            " 4   InvoiceDate  541909 non-null  object \n",
            " 5   UnitPrice    541909 non-null  float64\n",
            " 6   CustomerID   406829 non-null  float64\n",
            " 7   Country      541909 non-null  object \n",
            "dtypes: float64(2), int64(1), object(5)\n",
            "memory usage: 33.1+ MB\n"
          ]
        }
      ]
    },
    {
      "cell_type": "markdown",
      "source": [
        "**Information Gained:**\n",
        "There are certain transactions for whome CustomerID is not available. CustomerID is one of the most important feature of this dataset as it will uniquely identify each customer.\n",
        "\n",
        "**Describing the Mathematical and Statistical information of the data**"
      ],
      "metadata": {
        "id": "KFWKg-W7kVd0"
      }
    },
    {
      "cell_type": "code",
      "source": [
        "# Describing the dataset and rounding off the floating point data to 2 decimal places.\n",
        "data.describe().round(2)"
      ],
      "metadata": {
        "colab": {
          "base_uri": "https://localhost:8080/",
          "height": 280
        },
        "id": "G0IoON4AjqjA",
        "outputId": "64c70f6f-0643-4dd3-b36d-fc4bba7d1acb"
      },
      "execution_count": 52,
      "outputs": [
        {
          "output_type": "execute_result",
          "data": {
            "text/plain": [
              "        Quantity  UnitPrice  CustomerID\n",
              "count  541909.00  541909.00   406829.00\n",
              "mean        9.55       4.61    15287.69\n",
              "std       218.08      96.76     1713.60\n",
              "min    -80995.00  -11062.06    12346.00\n",
              "25%         1.00       1.25    13953.00\n",
              "50%         3.00       2.08    15152.00\n",
              "75%        10.00       4.13    16791.00\n",
              "max     80995.00   38970.00    18287.00"
            ],
            "text/html": [
              "\n",
              "  <div id=\"df-e4f01a79-7bf0-46ff-b8a0-90ccc5f2e997\">\n",
              "    <div class=\"colab-df-container\">\n",
              "      <div>\n",
              "<style scoped>\n",
              "    .dataframe tbody tr th:only-of-type {\n",
              "        vertical-align: middle;\n",
              "    }\n",
              "\n",
              "    .dataframe tbody tr th {\n",
              "        vertical-align: top;\n",
              "    }\n",
              "\n",
              "    .dataframe thead th {\n",
              "        text-align: right;\n",
              "    }\n",
              "</style>\n",
              "<table border=\"1\" class=\"dataframe\">\n",
              "  <thead>\n",
              "    <tr style=\"text-align: right;\">\n",
              "      <th></th>\n",
              "      <th>Quantity</th>\n",
              "      <th>UnitPrice</th>\n",
              "      <th>CustomerID</th>\n",
              "    </tr>\n",
              "  </thead>\n",
              "  <tbody>\n",
              "    <tr>\n",
              "      <th>count</th>\n",
              "      <td>541909.00</td>\n",
              "      <td>541909.00</td>\n",
              "      <td>406829.00</td>\n",
              "    </tr>\n",
              "    <tr>\n",
              "      <th>mean</th>\n",
              "      <td>9.55</td>\n",
              "      <td>4.61</td>\n",
              "      <td>15287.69</td>\n",
              "    </tr>\n",
              "    <tr>\n",
              "      <th>std</th>\n",
              "      <td>218.08</td>\n",
              "      <td>96.76</td>\n",
              "      <td>1713.60</td>\n",
              "    </tr>\n",
              "    <tr>\n",
              "      <th>min</th>\n",
              "      <td>-80995.00</td>\n",
              "      <td>-11062.06</td>\n",
              "      <td>12346.00</td>\n",
              "    </tr>\n",
              "    <tr>\n",
              "      <th>25%</th>\n",
              "      <td>1.00</td>\n",
              "      <td>1.25</td>\n",
              "      <td>13953.00</td>\n",
              "    </tr>\n",
              "    <tr>\n",
              "      <th>50%</th>\n",
              "      <td>3.00</td>\n",
              "      <td>2.08</td>\n",
              "      <td>15152.00</td>\n",
              "    </tr>\n",
              "    <tr>\n",
              "      <th>75%</th>\n",
              "      <td>10.00</td>\n",
              "      <td>4.13</td>\n",
              "      <td>16791.00</td>\n",
              "    </tr>\n",
              "    <tr>\n",
              "      <th>max</th>\n",
              "      <td>80995.00</td>\n",
              "      <td>38970.00</td>\n",
              "      <td>18287.00</td>\n",
              "    </tr>\n",
              "  </tbody>\n",
              "</table>\n",
              "</div>\n",
              "      <button class=\"colab-df-convert\" onclick=\"convertToInteractive('df-e4f01a79-7bf0-46ff-b8a0-90ccc5f2e997')\"\n",
              "              title=\"Convert this dataframe to an interactive table.\"\n",
              "              style=\"display:none;\">\n",
              "        \n",
              "  <svg xmlns=\"http://www.w3.org/2000/svg\" height=\"24px\"viewBox=\"0 0 24 24\"\n",
              "       width=\"24px\">\n",
              "    <path d=\"M0 0h24v24H0V0z\" fill=\"none\"/>\n",
              "    <path d=\"M18.56 5.44l.94 2.06.94-2.06 2.06-.94-2.06-.94-.94-2.06-.94 2.06-2.06.94zm-11 1L8.5 8.5l.94-2.06 2.06-.94-2.06-.94L8.5 2.5l-.94 2.06-2.06.94zm10 10l.94 2.06.94-2.06 2.06-.94-2.06-.94-.94-2.06-.94 2.06-2.06.94z\"/><path d=\"M17.41 7.96l-1.37-1.37c-.4-.4-.92-.59-1.43-.59-.52 0-1.04.2-1.43.59L10.3 9.45l-7.72 7.72c-.78.78-.78 2.05 0 2.83L4 21.41c.39.39.9.59 1.41.59.51 0 1.02-.2 1.41-.59l7.78-7.78 2.81-2.81c.8-.78.8-2.07 0-2.86zM5.41 20L4 18.59l7.72-7.72 1.47 1.35L5.41 20z\"/>\n",
              "  </svg>\n",
              "      </button>\n",
              "      \n",
              "  <style>\n",
              "    .colab-df-container {\n",
              "      display:flex;\n",
              "      flex-wrap:wrap;\n",
              "      gap: 12px;\n",
              "    }\n",
              "\n",
              "    .colab-df-convert {\n",
              "      background-color: #E8F0FE;\n",
              "      border: none;\n",
              "      border-radius: 50%;\n",
              "      cursor: pointer;\n",
              "      display: none;\n",
              "      fill: #1967D2;\n",
              "      height: 32px;\n",
              "      padding: 0 0 0 0;\n",
              "      width: 32px;\n",
              "    }\n",
              "\n",
              "    .colab-df-convert:hover {\n",
              "      background-color: #E2EBFA;\n",
              "      box-shadow: 0px 1px 2px rgba(60, 64, 67, 0.3), 0px 1px 3px 1px rgba(60, 64, 67, 0.15);\n",
              "      fill: #174EA6;\n",
              "    }\n",
              "\n",
              "    [theme=dark] .colab-df-convert {\n",
              "      background-color: #3B4455;\n",
              "      fill: #D2E3FC;\n",
              "    }\n",
              "\n",
              "    [theme=dark] .colab-df-convert:hover {\n",
              "      background-color: #434B5C;\n",
              "      box-shadow: 0px 1px 3px 1px rgba(0, 0, 0, 0.15);\n",
              "      filter: drop-shadow(0px 1px 2px rgba(0, 0, 0, 0.3));\n",
              "      fill: #FFFFFF;\n",
              "    }\n",
              "  </style>\n",
              "\n",
              "      <script>\n",
              "        const buttonEl =\n",
              "          document.querySelector('#df-e4f01a79-7bf0-46ff-b8a0-90ccc5f2e997 button.colab-df-convert');\n",
              "        buttonEl.style.display =\n",
              "          google.colab.kernel.accessAllowed ? 'block' : 'none';\n",
              "\n",
              "        async function convertToInteractive(key) {\n",
              "          const element = document.querySelector('#df-e4f01a79-7bf0-46ff-b8a0-90ccc5f2e997');\n",
              "          const dataTable =\n",
              "            await google.colab.kernel.invokeFunction('convertToInteractive',\n",
              "                                                     [key], {});\n",
              "          if (!dataTable) return;\n",
              "\n",
              "          const docLinkHtml = 'Like what you see? Visit the ' +\n",
              "            '<a target=\"_blank\" href=https://colab.research.google.com/notebooks/data_table.ipynb>data table notebook</a>'\n",
              "            + ' to learn more about interactive tables.';\n",
              "          element.innerHTML = '';\n",
              "          dataTable['output_type'] = 'display_data';\n",
              "          await google.colab.output.renderOutput(dataTable, element);\n",
              "          const docLink = document.createElement('div');\n",
              "          docLink.innerHTML = docLinkHtml;\n",
              "          element.appendChild(docLink);\n",
              "        }\n",
              "      </script>\n",
              "    </div>\n",
              "  </div>\n",
              "  "
            ]
          },
          "metadata": {},
          "execution_count": 52
        }
      ]
    },
    {
      "cell_type": "markdown",
      "source": [
        "**Information Gained:** From above we can observe that the Maximum UnitPrice and Quantity is negative that can't be possible. Also there is a huge difference between the Maximum and Minimum values of the Quantity and UnitPrice. Hence we will require to handle the outlier values.\n",
        "\n",
        "Counting the number of desciptions to check number of unique item description."
      ],
      "metadata": {
        "id": "RSxTo-7hliXp"
      }
    },
    {
      "cell_type": "code",
      "source": [
        "# Counting the number of desciptions to check number of unique item description.\n",
        "descriptions = data['Description'].unique()\n",
        "descriptions = pd.DataFrame(descriptions)\n",
        "descriptions[0].count()"
      ],
      "metadata": {
        "colab": {
          "base_uri": "https://localhost:8080/"
        },
        "id": "AxzYF2F2k6iR",
        "outputId": "063ec0af-06ca-473a-87bb-aa166bd5e46f"
      },
      "execution_count": 53,
      "outputs": [
        {
          "output_type": "execute_result",
          "data": {
            "text/plain": [
              "4223"
            ]
          },
          "metadata": {},
          "execution_count": 53
        }
      ]
    },
    {
      "cell_type": "code",
      "source": [
        "# Extracting the countries present in the data.\n",
        "country = pd.DataFrame(data['Country'].unique())\n",
        "country.count()"
      ],
      "metadata": {
        "colab": {
          "base_uri": "https://localhost:8080/"
        },
        "id": "2VaALEI9nKEC",
        "outputId": "245b7428-e5e2-42e0-ceb9-450a997de925"
      },
      "execution_count": 55,
      "outputs": [
        {
          "output_type": "execute_result",
          "data": {
            "text/plain": [
              "0    38\n",
              "dtype: int64"
            ]
          },
          "metadata": {},
          "execution_count": 55
        }
      ]
    },
    {
      "cell_type": "markdown",
      "source": [
        "There are total 38 Countries in the dataset, hence involving counties is not a good idea as it will lead to a lot of clusters and import informations will be missed out."
      ],
      "metadata": {
        "id": "VlpSbbQFnhii"
      }
    },
    {
      "cell_type": "markdown",
      "source": [
        "**Cleaning the data from false datapoints**"
      ],
      "metadata": {
        "id": "noAALBuhozLO"
      }
    },
    {
      "cell_type": "code",
      "source": [
        "# Removing the number of cusomers whose customer id is not available.\n",
        "data = data[data['CustomerID'].notna()]\n",
        "number_of_transactions = int(pd.DataFrame(data['CustomerID']).count())\n",
        "number_of_unique_customers = int(pd.DataFrame(data['CustomerID'].unique()).count())\n",
        "print(f'There are total {number_of_transactions} tranactions.')\n",
        "print(f'There are total {number_of_unique_customers} unique customers.')"
      ],
      "metadata": {
        "colab": {
          "base_uri": "https://localhost:8080/"
        },
        "id": "sgRRIgvPPFJN",
        "outputId": "9bd806b7-2103-4fb0-88f4-4b796765a88e"
      },
      "execution_count": 57,
      "outputs": [
        {
          "output_type": "stream",
          "name": "stdout",
          "text": [
            "There are total 406829 tranactions.\n",
            "There are total 4372 unique customers.\n"
          ]
        }
      ]
    },
    {
      "cell_type": "markdown",
      "source": [
        "We have around 4 lakh 6 thousand total transactions by four thousand three hundred sevety two unique customers that means these customers are regular and they purchase items frequently. For the same we have a bar blot below."
      ],
      "metadata": {
        "id": "yocs6x5LqVhe"
      }
    },
    {
      "cell_type": "code",
      "source": [
        "# Plotting a bar graph of total transaction vs number of registered customers.\n",
        "plt.bar('Total Tranaction', number_of_transactions)\n",
        "plt.bar('Unique Customers', number_of_unique_customers)\n",
        "plt.title('Total Transaction vs Unique Customers')\n",
        "plt.show()"
      ],
      "metadata": {
        "colab": {
          "base_uri": "https://localhost:8080/",
          "height": 281
        },
        "id": "yU1oyLrbPFSJ",
        "outputId": "e6ac7452-8e99-4c75-b2a1-ccea899f738a"
      },
      "execution_count": 59,
      "outputs": [
        {
          "output_type": "display_data",
          "data": {
            "text/plain": [
              "<Figure size 432x288 with 1 Axes>"
            ],
            "image/png": "[encoded data removed]"
          },
          "metadata": {
            "needs_background": "light"
          }
        }
      ]
    },
    {
      "cell_type": "code",
      "source": [
        "# Cleaning the data for the segmentation of the data.\n",
        "# Getting the unique InvoiceID of unique Customer inorder to find the number of  transactions done a perticular customer.\n",
        "# No. of transaction will tell us about the consistency of the customer.\n",
        "unique_bills = pd.DataFrame(data.groupby('CustomerID')['InvoiceNo'].unique())\n",
        "unique_bills['CustomerID'] = unique_bills.index\n",
        "unique_bills['Transaction'] = unique_bills['InvoiceNo'].str.len()"
      ],
      "metadata": {
        "id": "EIkdtzDYPYux"
      },
      "execution_count": 67,
      "outputs": []
    },
    {
      "cell_type": "code",
      "source": [
        "# Keeping only required features and removing the other.\n",
        "# Invoice number, description, Invoice date, stockcode, and country is not that much of importance as per the problem\n",
        "df = data.iloc[:, [3, 5, 6]]"
      ],
      "metadata": {
        "id": "FjLSPKYDrsUE"
      },
      "execution_count": 68,
      "outputs": []
    },
    {
      "cell_type": "code",
      "source": [
        "# Calculating the total amount purchased by each customer, grouping the dataset by CustomerID\n",
        "df['Amount'] = df['Quantity'] * df['UnitPrice']\n",
        "df = df.iloc[:, 2: ]\n",
        "df_group = pd.DataFrame(df.groupby('CustomerID').sum())"
      ],
      "metadata": {
        "colab": {
          "base_uri": "https://localhost:8080/"
        },
        "id": "xO0jJWEuPYwD",
        "outputId": "fa1fa01a-e108-43df-cc8f-b9d6e111579b"
      },
      "execution_count": 69,
      "outputs": [
        {
          "output_type": "stream",
          "name": "stderr",
          "text": [
            "/usr/local/lib/python3.7/dist-packages/ipykernel_launcher.py:2: SettingWithCopyWarning: \n",
            "A value is trying to be set on a copy of a slice from a DataFrame.\n",
            "Try using .loc[row_indexer,col_indexer] = value instead\n",
            "\n",
            "See the caveats in the documentation: https://pandas.pydata.org/pandas-docs/stable/user_guide/indexing.html#returning-a-view-versus-a-copy\n",
            "  \n"
          ]
        }
      ]
    },
    {
      "cell_type": "code",
      "source": [
        "# Processing the Amount spent by each customer for shopping.\n",
        "unique_bills = pd.DataFrame(unique_bills.iloc[:, 2])\n",
        "unique_bills['Amount'] = df_group['Amount']"
      ],
      "metadata": {
        "id": "nJfpzmLiRnXL"
      },
      "execution_count": 70,
      "outputs": []
    },
    {
      "cell_type": "code",
      "source": [
        "# Inspecting the different Quantiles for outliers.\n",
        "print(unique_bills.describe().round(2), end = '\\n \\n')\n",
        "print('Transaction and Amount for values at 5th Percentile')\n",
        "print(unique_bills.quantile(0.05), end = '\\n \\n')\n",
        "print('Transaction and Amount for values at 80th Percentile')\n",
        "print(unique_bills.quantile(0.80))"
      ],
      "metadata": {
        "colab": {
          "base_uri": "https://localhost:8080/"
        },
        "id": "JWCZvos_tJAC",
        "outputId": "e0218b58-0b08-4e21-92dd-7bb7e3439e2a"
      },
      "execution_count": 83,
      "outputs": [
        {
          "output_type": "stream",
          "name": "stdout",
          "text": [
            "       Transaction     Amount\n",
            "count      4372.00    4372.00\n",
            "mean          5.08    1898.46\n",
            "std           9.34    8219.35\n",
            "min           1.00   -4287.63\n",
            "25%           1.00     293.36\n",
            "50%           3.00     648.08\n",
            "75%           5.00    1611.72\n",
            "max         248.00  279489.02\n",
            " \n",
            "Transaction and Amount for values at 5th Percentile\n",
            "Transaction      1.0000\n",
            "Amount         101.1385\n",
            "Name: 0.05, dtype: float64\n",
            " \n",
            "Transaction and Amount for values at 80th Percentile\n",
            "Transaction       7.000\n",
            "Amount         2002.092\n",
            "Name: 0.8, dtype: float64\n"
          ]
        }
      ]
    },
    {
      "cell_type": "markdown",
      "source": [
        "**Infromation Gained:** From the above we can conclude that the data below 5th percentile is corrupted or wrong, and values above 80th percentile is increase drastically that means it is exception that is need to be handle.\n",
        "A small section of society have a lot of money, we sould ignore than while processing for general society."
      ],
      "metadata": {
        "id": "gYEN-1zPuJ2I"
      }
    },
    {
      "cell_type": "code",
      "source": [
        "# data below and above 0.05, 0.80 percentile respectively are outliers.\n",
        "lower_bound = unique_bills.quantile(0.05)['Amount'].round(2)\n",
        "upper_bound = unique_bills.quantile(0.80)['Amount'].round(2)\n",
        "\n",
        "# Valid values are those which lies between lower and upper bound.\n",
        "valid_values = unique_bills[(unique_bills['Amount'] >= lower_bound)]\n",
        "valid_values = valid_values[(unique_bills['Amount'] <= upper_bound)]\n",
        "print(f'Total number of valid data points: {len(valid_values)}')"
      ],
      "metadata": {
        "colab": {
          "base_uri": "https://localhost:8080/"
        },
        "id": "FToNnUvttCVL",
        "outputId": "d5947244-6488-402a-a6c8-338f6b30cc29"
      },
      "execution_count": 73,
      "outputs": [
        {
          "output_type": "stream",
          "name": "stdout",
          "text": [
            "Total number of valid data points: 3278\n"
          ]
        },
        {
          "output_type": "stream",
          "name": "stderr",
          "text": [
            "/usr/local/lib/python3.7/dist-packages/ipykernel_launcher.py:7: UserWarning: Boolean Series key will be reindexed to match DataFrame index.\n",
            "  import sys\n"
          ]
        }
      ]
    },
    {
      "cell_type": "code",
      "source": [
        "# Creating the final variable for the clustering\n",
        "x = valid_values.values\n",
        "valid_values.head()"
      ],
      "metadata": {
        "colab": {
          "base_uri": "https://localhost:8080/",
          "height": 215
        },
        "id": "truLmKNlPYzQ",
        "outputId": "22693b52-df51-457e-fb28-8dac46404beb"
      },
      "execution_count": 74,
      "outputs": [
        {
          "output_type": "execute_result",
          "data": {
            "text/plain": [
              "            Transaction   Amount\n",
              "CustomerID                      \n",
              "12348.0               4  1797.24\n",
              "12349.0               1  1757.55\n",
              "12350.0               1   334.40\n",
              "12352.0              11  1545.41\n",
              "12354.0               1  1079.40"
            ],
            "text/html": [
              "\n",
              "  <div id=\"df-523770d9-d1c9-458b-bfa0-1e254372fab0\">\n",
              "    <div class=\"colab-df-container\">\n",
              "      <div>\n",
              "<style scoped>\n",
              "    .dataframe tbody tr th:only-of-type {\n",
              "        vertical-align: middle;\n",
              "    }\n",
              "\n",
              "    .dataframe tbody tr th {\n",
              "        vertical-align: top;\n",
              "    }\n",
              "\n",
              "    .dataframe thead th {\n",
              "        text-align: right;\n",
              "    }\n",
              "</style>\n",
              "<table border=\"1\" class=\"dataframe\">\n",
              "  <thead>\n",
              "    <tr style=\"text-align: right;\">\n",
              "      <th></th>\n",
              "      <th>Transaction</th>\n",
              "      <th>Amount</th>\n",
              "    </tr>\n",
              "    <tr>\n",
              "      <th>CustomerID</th>\n",
              "      <th></th>\n",
              "      <th></th>\n",
              "    </tr>\n",
              "  </thead>\n",
              "  <tbody>\n",
              "    <tr>\n",
              "      <th>12348.0</th>\n",
              "      <td>4</td>\n",
              "      <td>1797.24</td>\n",
              "    </tr>\n",
              "    <tr>\n",
              "      <th>12349.0</th>\n",
              "      <td>1</td>\n",
              "      <td>1757.55</td>\n",
              "    </tr>\n",
              "    <tr>\n",
              "      <th>12350.0</th>\n",
              "      <td>1</td>\n",
              "      <td>334.40</td>\n",
              "    </tr>\n",
              "    <tr>\n",
              "      <th>12352.0</th>\n",
              "      <td>11</td>\n",
              "      <td>1545.41</td>\n",
              "    </tr>\n",
              "    <tr>\n",
              "      <th>12354.0</th>\n",
              "      <td>1</td>\n",
              "      <td>1079.40</td>\n",
              "    </tr>\n",
              "  </tbody>\n",
              "</table>\n",
              "</div>\n",
              "      <button class=\"colab-df-convert\" onclick=\"convertToInteractive('df-523770d9-d1c9-458b-bfa0-1e254372fab0')\"\n",
              "              title=\"Convert this dataframe to an interactive table.\"\n",
              "              style=\"display:none;\">\n",
              "        \n",
              "  <svg xmlns=\"http://www.w3.org/2000/svg\" height=\"24px\"viewBox=\"0 0 24 24\"\n",
              "       width=\"24px\">\n",
              "    <path d=\"M0 0h24v24H0V0z\" fill=\"none\"/>\n",
              "    <path d=\"M18.56 5.44l.94 2.06.94-2.06 2.06-.94-2.06-.94-.94-2.06-.94 2.06-2.06.94zm-11 1L8.5 8.5l.94-2.06 2.06-.94-2.06-.94L8.5 2.5l-.94 2.06-2.06.94zm10 10l.94 2.06.94-2.06 2.06-.94-2.06-.94-.94-2.06-.94 2.06-2.06.94z\"/><path d=\"M17.41 7.96l-1.37-1.37c-.4-.4-.92-.59-1.43-.59-.52 0-1.04.2-1.43.59L10.3 9.45l-7.72 7.72c-.78.78-.78 2.05 0 2.83L4 21.41c.39.39.9.59 1.41.59.51 0 1.02-.2 1.41-.59l7.78-7.78 2.81-2.81c.8-.78.8-2.07 0-2.86zM5.41 20L4 18.59l7.72-7.72 1.47 1.35L5.41 20z\"/>\n",
              "  </svg>\n",
              "      </button>\n",
              "      \n",
              "  <style>\n",
              "    .colab-df-container {\n",
              "      display:flex;\n",
              "      flex-wrap:wrap;\n",
              "      gap: 12px;\n",
              "    }\n",
              "\n",
              "    .colab-df-convert {\n",
              "      background-color: #E8F0FE;\n",
              "      border: none;\n",
              "      border-radius: 50%;\n",
              "      cursor: pointer;\n",
              "      display: none;\n",
              "      fill: #1967D2;\n",
              "      height: 32px;\n",
              "      padding: 0 0 0 0;\n",
              "      width: 32px;\n",
              "    }\n",
              "\n",
              "    .colab-df-convert:hover {\n",
              "      background-color: #E2EBFA;\n",
              "      box-shadow: 0px 1px 2px rgba(60, 64, 67, 0.3), 0px 1px 3px 1px rgba(60, 64, 67, 0.15);\n",
              "      fill: #174EA6;\n",
              "    }\n",
              "\n",
              "    [theme=dark] .colab-df-convert {\n",
              "      background-color: #3B4455;\n",
              "      fill: #D2E3FC;\n",
              "    }\n",
              "\n",
              "    [theme=dark] .colab-df-convert:hover {\n",
              "      background-color: #434B5C;\n",
              "      box-shadow: 0px 1px 3px 1px rgba(0, 0, 0, 0.15);\n",
              "      filter: drop-shadow(0px 1px 2px rgba(0, 0, 0, 0.3));\n",
              "      fill: #FFFFFF;\n",
              "    }\n",
              "  </style>\n",
              "\n",
              "      <script>\n",
              "        const buttonEl =\n",
              "          document.querySelector('#df-523770d9-d1c9-458b-bfa0-1e254372fab0 button.colab-df-convert');\n",
              "        buttonEl.style.display =\n",
              "          google.colab.kernel.accessAllowed ? 'block' : 'none';\n",
              "\n",
              "        async function convertToInteractive(key) {\n",
              "          const element = document.querySelector('#df-523770d9-d1c9-458b-bfa0-1e254372fab0');\n",
              "          const dataTable =\n",
              "            await google.colab.kernel.invokeFunction('convertToInteractive',\n",
              "                                                     [key], {});\n",
              "          if (!dataTable) return;\n",
              "\n",
              "          const docLinkHtml = 'Like what you see? Visit the ' +\n",
              "            '<a target=\"_blank\" href=https://colab.research.google.com/notebooks/data_table.ipynb>data table notebook</a>'\n",
              "            + ' to learn more about interactive tables.';\n",
              "          element.innerHTML = '';\n",
              "          dataTable['output_type'] = 'display_data';\n",
              "          await google.colab.output.renderOutput(dataTable, element);\n",
              "          const docLink = document.createElement('div');\n",
              "          docLink.innerHTML = docLinkHtml;\n",
              "          element.appendChild(docLink);\n",
              "        }\n",
              "      </script>\n",
              "    </div>\n",
              "  </div>\n",
              "  "
            ]
          },
          "metadata": {},
          "execution_count": 74
        }
      ]
    },
    {
      "cell_type": "markdown",
      "source": [
        "**Using KMeans Clustering:** KMeans clustering is used for finding optimal clusters in given data. We are using Elbow Method to obtain the optimal number of clusters."
      ],
      "metadata": {
        "id": "36sbT3NQvwIc"
      }
    },
    {
      "cell_type": "code",
      "source": [
        "# Using the elbow method to find the optimal number of clusters\n",
        "from sklearn.cluster import KMeans\n",
        "wcss = []\n",
        "for i in range(1, 11):\n",
        "    kmeans = KMeans(n_clusters = i, init = 'k-means++', random_state = 42)\n",
        "    kmeans.fit(x)\n",
        "    wcss.append(kmeans.inertia_)\n",
        "\n",
        "# Plotting the Elbow Curve\n",
        "plt.figure(figsize=(14, 9))\n",
        "plt.plot(range(1, 11), wcss)\n",
        "plt.title('The Elbow Method')\n",
        "plt.xlabel('Number of clusters')\n",
        "plt.ylabel('WCSS')\n",
        "plt.show()"
      ],
      "metadata": {
        "colab": {
          "base_uri": "https://localhost:8080/",
          "height": 567
        },
        "id": "YBN_0obwPY0Y",
        "outputId": "a18c1b35-ad4b-4fd9-cb00-0a1d586e2d1d"
      },
      "execution_count": 85,
      "outputs": [
        {
          "output_type": "display_data",
          "data": {
            "text/plain": [
              "<Figure size 1008x648 with 1 Axes>"
            ],
            "image/png": "[encoded data removed]"
          },
          "metadata": {
            "needs_background": "light"
          }
        }
      ]
    },
    {
      "cell_type": "markdown",
      "source": [
        "From the above we can conclude to have 4 clusters, as the solve till 4 cluster is very steep."
      ],
      "metadata": {
        "id": "PJLlLZN5wcFc"
      }
    },
    {
      "cell_type": "code",
      "source": [
        "kmeans = KMeans(n_clusters = 4, init = 'k-means++', random_state = 42)\n",
        "y_kmeans = kmeans.fit_predict(x)"
      ],
      "metadata": {
        "id": "DMsT_uUCPY4L"
      },
      "execution_count": 75,
      "outputs": []
    },
    {
      "cell_type": "code",
      "source": [
        "# Visualising the clusters\n",
        "plt.figure(figsize=(14, 9))\n",
        "plt.scatter(x[y_kmeans == 0, 0], x[y_kmeans == 0, 1], s = 100, c = 'red', label = 'Cluster 1', edgecolor = 'black')\n",
        "plt.scatter(x[y_kmeans == 1, 0], x[y_kmeans == 1, 1], s = 100, c = 'blue', label = 'Cluster 2', edgecolor = 'black')\n",
        "plt.scatter(x[y_kmeans == 2, 0], x[y_kmeans == 2, 1], s = 100, c = 'green', label = 'Cluster 3', edgecolor = 'black')\n",
        "plt.scatter(x[y_kmeans == 3, 0], x[y_kmeans == 3, 1], s = 100, c = 'magenta', label = 'Cluster 4', edgecolor = 'black')\n",
        "plt.scatter(kmeans.cluster_centers_[:, 0], kmeans.cluster_centers_[:, 1], s = 300, c = 'yellow', label = 'Centroids', edgecolor = 'black')\n",
        "plt.title('Clusters of customers')\n",
        "plt.ylabel('Total Spending ($)')\n",
        "plt.xlabel('Number of Transactions')\n",
        "plt.legend()\n",
        "plt.show()"
      ],
      "metadata": {
        "colab": {
          "base_uri": "https://localhost:8080/",
          "height": 567
        },
        "id": "rXjppsmuPwxH",
        "outputId": "8910f1a8-150d-489a-d93d-0a1d6384ef2b"
      },
      "execution_count": 84,
      "outputs": [
        {
          "output_type": "display_data",
          "data": {
            "text/plain": [
              "<Figure size 1008x648 with 1 Axes>"
            ],
            "image/png": "[encoded data removed]"
          },
          "metadata": {
            "needs_background": "light"
          }
        }
      ]
    },
    {
      "cell_type": "markdown",
      "source": [
        "By the above processes we have obtained the above shown 4 clusters. With a centoid overwhich datapoints are being clustered. \n",
        "These are the possible cluster to segment the customers."
      ],
      "metadata": {
        "id": "pZhW9Zy6w94F"
      }
    }
  ]
}